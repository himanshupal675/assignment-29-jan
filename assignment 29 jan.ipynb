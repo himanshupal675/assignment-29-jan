{
 "cells": [
  {
   "cell_type": "code",
   "execution_count": null,
   "id": "c4a3f77b-41c1-4c61-9fe3-ba197229276e",
   "metadata": {},
   "outputs": [
    {
     "data": {
      "text/plain": [
       "'Python is a popular programming language. It was created by Guido van Rossum, and released in 1991.'"
      ]
     },
     "execution_count": 1,
     "metadata": {},
     "output_type": "execute_result"
    }
   ],
   "source": [
    "# Answer 1\n",
    "\"\"\"Python is a popular programming language. It was created by Guido van Rossum, and released in 1991.\"\"\""
   ]
  },
  {
   "cell_type": "code",
   "execution_count": null,
   "id": "5d255b6d-c564-40cd-a909-d32db767891e",
   "metadata": {},
   "outputs": [],
   "source": [
    "# Answer 2\n",
    "\"\"\"Python is a multi-paradigm programming language. Object-oriented programming and structured programming \n",
    "are fully supported, and many of their features support functional programming and aspect-oriented programming\n",
    "(including metaprogramming and metaobjects).\"\"\""
   ]
  },
  {
   "cell_type": "code",
   "execution_count": null,
   "id": "ec0ff884-cb9c-4d81-82b0-a85829a5d577",
   "metadata": {},
   "outputs": [],
   "source": [
    "# Answer 3\n",
    "\"\"\"Yes, Python is a case-sensitive language, i.e., it treats uppercase and lowercase characters differently.\n",
    "This applies to identifiers too. You must avoid using the same name with different cases while naming identifiers.\"\"\""
   ]
  },
  {
   "cell_type": "code",
   "execution_count": null,
   "id": "6604a2a7-6f3c-44f0-bbc5-62886e9fdc0b",
   "metadata": {},
   "outputs": [],
   "source": [
    "# Answer 4\n",
    "\"\"\"As every Programming Language has an extension, similarly Python has an extension called (.py). \n",
    "All Python files are stored in this extension, and you could also convert scripts into this extension.\"\"\""
   ]
  },
  {
   "cell_type": "code",
   "execution_count": null,
   "id": "4f96e3ee-66b2-4132-a982-b618c3fab884",
   "metadata": {},
   "outputs": [],
   "source": [
    "#Answer 5\n",
    "\"\"\"Python is an interpreted language, which means the source code of a Python program is converted into bytecode \n",
    "that is then executed by the Python virtual machine. Python is different from major compiled languages, such as \n",
    "C and C + +, as Python code is not required to be built and linked like code for these languages.\n",
    "\"\"\""
   ]
  },
  {
   "cell_type": "code",
   "execution_count": null,
   "id": "7664195b-ecd2-459f-8d79-2acf5922c098",
   "metadata": {},
   "outputs": [],
   "source": [
    "#Answer 6\n",
    "\"\"\"A code block is a piece of Python program text that can be executed as a unit, such as a module, \n",
    "a class definition or a function body. Some code blocks (like modules) are normally executed only once,\n",
    "others (like function bodies) may be executed many times. Code blocks may textually contain other code blocks.\"\"\""
   ]
  },
  {
   "cell_type": "code",
   "execution_count": null,
   "id": "534a0ad9-72ae-4d4c-9f62-583b75fb4b24",
   "metadata": {},
   "outputs": [],
   "source": [
    "#Answer 7\n",
    "\"\"\"Hash character(#) is used to comment the line in the Python program. Comments does not have to be\n",
    "text to explain the code, it can also be used to prevent Python from executing code.\"\"\""
   ]
  },
  {
   "cell_type": "code",
   "execution_count": null,
   "id": "8d06b7af-47be-44e0-acc4-ea2e83c4eb07",
   "metadata": {},
   "outputs": [],
   "source": [
    "#Answer 8\n",
    "\"\"\"The function sys.version can help us to find the version of python that we are currently working on.\n",
    "For example, 3.5.2, 2.7.3 etc. this function also returns the current date, time, bits etc along with the\n",
    "version.\"\"\""
   ]
  },
  {
   "cell_type": "code",
   "execution_count": 3,
   "id": "d74f41f9-c3df-4abf-ac93-d65db55769a3",
   "metadata": {},
   "outputs": [],
   "source": [
    "#Answer 9\n",
    "\"\"\"Python supports to make anonymous functions which are not bound to a name(@ runtime). \n",
    "It uses a construct called \"lambda\" .\"\"\""
   ]
  },
  {
   "cell_type": "code",
   "execution_count": null,
   "id": "595a3b51-c289-4ee9-bb46-0a960b3c942d",
   "metadata": {},
   "outputs": [],
   "source": [
    "#Answer 10\n",
    "\"\"\" pip stands for \"preferred installer program\". Python 2.7. 9 and later (on the python2 series), and \n",
    " Python 3.4 and later include pip (pip3 for Python 3) by default.\"\"\""
   ]
  },
  {
   "cell_type": "code",
   "execution_count": null,
   "id": "f8178775-2155-4eca-b2ae-96bacaa9ca35",
   "metadata": {},
   "outputs": [],
   "source": [
    "#Answer11\n",
    "\"\"\" Python Built-in Functions\n",
    "print( ) function.\n",
    "type( ) function.\n",
    "input( ) function.\n",
    "abs( ) function.\n",
    "pow( ) function.\n",
    "dir( ) function.\n",
    "sorted( ) function.\n",
    "max( ) function.\"\"\""
   ]
  },
  {
   "cell_type": "code",
   "execution_count": null,
   "id": "b113bafc-b1f4-491a-9e50-43f70e169116",
   "metadata": {},
   "outputs": [],
   "source": [
    "#Answer 12\n",
    "\"\"\" An identifier can have a maximum length of 79 characters in Python.\"\"\""
   ]
  },
  {
   "cell_type": "code",
   "execution_count": null,
   "id": "1a760f9c-8033-477e-83a3-75f41a4d954c",
   "metadata": {},
   "outputs": [],
   "source": [
    "#Answer 13\n",
    "\"\"\" Python is incredibly easy to learn, regardless of your age or experience level. It is part of \n",
    "the reason I wrote a book about programming in the language for teenagers – it is a great entry into\n",
    "programming software as a whole. Since the language is so simple to read and write in, it also makes a \n",
    "great second or third language to add to your developer resume.\n",
    "\n",
    "Even if a programmer plans on coding in a different language further down the line, Python is a good \n",
    "place to start. You can learn basic programming philosophies and concepts that overlap no matter what\n",
    "language you use. For example, pretty much every programming language uses the concepts of variables,\n",
    "data types, loops and iterations, and control statements like if and else.\"\"\""
   ]
  },
  {
   "cell_type": "code",
   "execution_count": null,
   "id": "d6f0a2a4-d7e6-4e81-b142-e722eb67ea5f",
   "metadata": {},
   "outputs": [],
   "source": [
    "#Answer 14\n",
    "\"\"\"Memory management in Python involves a private heap containing all Python objects and data structures. \n",
    "The management of this private heap is ensured internally by the Python memory manager.\"\"\""
   ]
  },
  {
   "cell_type": "code",
   "execution_count": null,
   "id": "d8000a00-9b5d-4c23-a1e7-f6efc65bd2f4",
   "metadata": {},
   "outputs": [],
   "source": [
    "#Answer 15\n",
    "\"\"\"In the section entitled User Variables, double-click on the entry that says Path. \n",
    "Another window will pop up showing a list of paths. Click the New button and paste the path\n",
    "to your Python executable there. Once that's inserted, select your newly added path and click\n",
    "the Move Up button until it's at the top.\"\"\""
   ]
  },
  {
   "cell_type": "code",
   "execution_count": null,
   "id": "9b1478d1-f2e8-4853-be8c-254d665d2fa0",
   "metadata": {},
   "outputs": [],
   "source": [
    "#Answer 16\n",
    "\"\"\"Indentation is mandatory in python to define the blocks of statements. It is preferred \n",
    "to use whitespaces instead of tabs to indent in python. Python uses four spaces as default \n",
    "indentation spaces.\"\"\""
   ]
  }
 ],
 "metadata": {
  "kernelspec": {
   "display_name": "Python 3 (ipykernel)",
   "language": "python",
   "name": "python3"
  },
  "language_info": {
   "codemirror_mode": {
    "name": "ipython",
    "version": 3
   },
   "file_extension": ".py",
   "mimetype": "text/x-python",
   "name": "python",
   "nbconvert_exporter": "python",
   "pygments_lexer": "ipython3",
   "version": "3.10.8"
  }
 },
 "nbformat": 4,
 "nbformat_minor": 5
}
